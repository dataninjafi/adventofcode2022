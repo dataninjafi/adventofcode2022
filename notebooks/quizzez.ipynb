{
 "cells": [
  {
   "cell_type": "markdown",
   "metadata": {},
   "source": [
    "# Day 1"
   ]
  },
  {
   "cell_type": "markdown",
   "metadata": {},
   "source": [
    "## Quizz 1"
   ]
  },
  {
   "cell_type": "code",
   "execution_count": 275,
   "metadata": {},
   "outputs": [],
   "source": [
    "with open('../data/raw/day1/quizz1/input.txt') as file:\n",
    "    data = file.read().split('\\n\\n')"
   ]
  },
  {
   "cell_type": "code",
   "execution_count": 276,
   "metadata": {},
   "outputs": [],
   "source": [
    "data = [i.split('\\n') for i in data]"
   ]
  },
  {
   "cell_type": "code",
   "execution_count": 277,
   "metadata": {},
   "outputs": [],
   "source": [
    "def getPersonalCalories(personalRawData):\n",
    "    personalRawData = list(filter(None, personalRawData))\n",
    "    return([int(i) for i in personalRawData])"
   ]
  },
  {
   "cell_type": "code",
   "execution_count": 278,
   "metadata": {},
   "outputs": [],
   "source": [
    "data = [getPersonalCalories(i) for i in data]"
   ]
  },
  {
   "cell_type": "code",
   "execution_count": 279,
   "metadata": {},
   "outputs": [],
   "source": [
    "personalSums = [sum(i) for i in data]"
   ]
  },
  {
   "cell_type": "code",
   "execution_count": 280,
   "metadata": {},
   "outputs": [
    {
     "data": {
      "text/plain": [
       "72602"
      ]
     },
     "execution_count": 280,
     "metadata": {},
     "output_type": "execute_result"
    }
   ],
   "source": [
    "max(personalSums)"
   ]
  },
  {
   "cell_type": "markdown",
   "metadata": {},
   "source": [
    "# Quizz 2"
   ]
  },
  {
   "cell_type": "code",
   "execution_count": 293,
   "metadata": {},
   "outputs": [],
   "source": [
    "top3 = sorted(personalSums, reverse = True)[0:3]\n",
    "top3 = sum(top3)"
   ]
  },
  {
   "cell_type": "code",
   "execution_count": 294,
   "metadata": {},
   "outputs": [
    {
     "data": {
      "text/plain": [
       "207410"
      ]
     },
     "execution_count": 294,
     "metadata": {},
     "output_type": "execute_result"
    }
   ],
   "source": [
    "top3"
   ]
  },
  {
   "cell_type": "markdown",
   "metadata": {},
   "source": [
    "# Day 2"
   ]
  },
  {
   "cell_type": "markdown",
   "metadata": {},
   "source": [
    "## Quizz 1"
   ]
  },
  {
   "cell_type": "code",
   "execution_count": 69,
   "metadata": {},
   "outputs": [],
   "source": [
    "def get_outcome_points(shapes):\n",
    "    if shapes in ['A Z','B X','C Y']:\n",
    "        return 0\n",
    "    elif shapes in ['A X','B Y','C Z']:\n",
    "        return 3\n",
    "    else:\n",
    "        return 6"
   ]
  },
  {
   "cell_type": "code",
   "execution_count": 70,
   "metadata": {},
   "outputs": [],
   "source": [
    "def get_shape_points(shapes):\n",
    "    if shapes.endswith('X'):\n",
    "        return 1\n",
    "    elif shapes.endswith('Y'):\n",
    "        return 2\n",
    "    else:\n",
    "        return 3"
   ]
  },
  {
   "cell_type": "code",
   "execution_count": 88,
   "metadata": {},
   "outputs": [],
   "source": [
    "\n",
    "with open('../data/raw/day2/quizz1/input') as file:\n",
    "    data_day2 = [line.rstrip() for line in file]"
   ]
  },
  {
   "cell_type": "code",
   "execution_count": 89,
   "metadata": {},
   "outputs": [
    {
     "data": {
      "text/plain": [
       "13526"
      ]
     },
     "execution_count": 89,
     "metadata": {},
     "output_type": "execute_result"
    }
   ],
   "source": [
    "sum([get_outcome_points(i) for i in data_day2]) + sum([get_shape_points(i) for i in data_day2])"
   ]
  },
  {
   "cell_type": "markdown",
   "metadata": {},
   "source": [
    "# Quizz 2"
   ]
  },
  {
   "cell_type": "code",
   "execution_count": 93,
   "metadata": {},
   "outputs": [],
   "source": [
    "def recode_shape(shape):\n",
    "    if 'X' in shape: # win\n",
    "        if 'A' in shape:\n",
    "            return 'A Z'\n",
    "        elif 'B' in shape:\n",
    "            return 'B X'\n",
    "        else:\n",
    "            return 'C Y'\n",
    "    elif 'Y' in shape: #draw\n",
    "        if 'A' in shape:\n",
    "            return 'A X'\n",
    "        elif 'B' in shape:\n",
    "            return 'B Y'\n",
    "        else:\n",
    "            return 'C Z'\n",
    "    else:\n",
    "        if 'A' in shape:\n",
    "            return 'A Y'\n",
    "        elif 'B' in shape:\n",
    "            return 'B Z'\n",
    "        else:\n",
    "            return 'C X'"
   ]
  },
  {
   "cell_type": "code",
   "execution_count": 95,
   "metadata": {},
   "outputs": [],
   "source": [
    "data_day2 = [recode_shape(i) for i in data_day2]"
   ]
  },
  {
   "cell_type": "code",
   "execution_count": 96,
   "metadata": {},
   "outputs": [
    {
     "data": {
      "text/plain": [
       "14204"
      ]
     },
     "execution_count": 96,
     "metadata": {},
     "output_type": "execute_result"
    }
   ],
   "source": [
    "sum([get_outcome_points(i) for i in data_day2]) + sum([get_shape_points(i) for i in data_day2])"
   ]
  },
  {
   "cell_type": "code",
   "execution_count": null,
   "metadata": {},
   "outputs": [],
   "source": [
    "# Day3"
   ]
  },
  {
   "cell_type": "markdown",
   "metadata": {},
   "source": [
    "## Quizz 1"
   ]
  },
  {
   "cell_type": "code",
   "execution_count": 429,
   "metadata": {},
   "outputs": [],
   "source": [
    "def get_duplicate_item(rucksack):\n",
    "    rucksack = list(rucksack)\n",
    "    half = len(rucksack) // 2\n",
    "    return (set(rucksack[:half]) & set(rucksack[-half:])).pop()\n",
    "\n",
    "def get_priority(letter):\n",
    "    int_rep = ord(letter)\n",
    "    if int_rep < 91:\n",
    "        return (int_rep - 38)\n",
    "    else:\n",
    "        return (int_rep - 96)"
   ]
  },
  {
   "cell_type": "code",
   "execution_count": 436,
   "metadata": {},
   "outputs": [
    {
     "name": "stdout",
     "output_type": "stream",
     "text": [
      "8153\n"
     ]
    }
   ],
   "source": [
    "with open('../data/raw/day3/quizz1/input.txt') as file:\n",
    "    print(sum([get_priority(get_duplicate_item(line.rstrip())) for line in file]))"
   ]
  },
  {
   "cell_type": "code",
   "execution_count": null,
   "metadata": {},
   "outputs": [],
   "source": [
    "## Quizz 2"
   ]
  },
  {
   "cell_type": "code",
   "execution_count": 525,
   "metadata": {},
   "outputs": [],
   "source": [
    "def get_badge_priority(rucksack):\n",
    "    z = [set(list(i)) for i in rucksack]\n",
    "    return get_priority((z[0] & z[1] & z[2]).pop())"
   ]
  },
  {
   "cell_type": "code",
   "execution_count": 527,
   "metadata": {},
   "outputs": [
    {
     "name": "stdout",
     "output_type": "stream",
     "text": [
      "2342\n"
     ]
    }
   ],
   "source": [
    "\n",
    "with open('../data/raw/day3/quizz1/input.txt') as file:\n",
    "    x = [line.rstrip() for line in file]\n",
    "    print(sum([get_badge_priority(x[i:i+3]) for i in range(0, (len(x)-1), 3)]))\n",
    "\n"
   ]
  },
  {
   "cell_type": "code",
   "execution_count": null,
   "metadata": {},
   "outputs": [],
   "source": [
    "# Day 5"
   ]
  },
  {
   "cell_type": "markdown",
   "metadata": {},
   "source": [
    "## Quizz 1"
   ]
  },
  {
   "cell_type": "code",
   "execution_count": 273,
   "metadata": {},
   "outputs": [],
   "source": [
    "import re"
   ]
  },
  {
   "cell_type": "code",
   "execution_count": 260,
   "metadata": {},
   "outputs": [],
   "source": [
    "def read_stack_data(row):\n",
    "    return [list(row)[i] for i in range(1,35,4)]"
   ]
  },
  {
   "cell_type": "code",
   "execution_count": 382,
   "metadata": {},
   "outputs": [],
   "source": [
    "def solve_day5(pop = True):\n",
    "\n",
    "    with open('../data/raw/day5/quizz1/input.txt') as file:\n",
    "        data_day5 = [read_stack_data(next(file)) for x in range(8)][::-1]\n",
    "        stacks = [[] for _ in range(9)]  \n",
    "        rearragements = [re.findall('\\d+', i) for i in file.readlines()[2:]]\n",
    "        rearragements = [[int(i) for i in lst] for lst in rearragements]\n",
    "        \n",
    "        for input_row in range(8):\n",
    "            for stack_number in range(9):\n",
    "                value = data_day5[input_row][stack_number]\n",
    "                if value != ' ':\n",
    "                    stacks[stack_number].append(value) \n",
    "                else:\n",
    "                    next\n",
    "    \n",
    "        for r in rearragements:\n",
    "            crates = [stacks[(r[1]-1)].pop() for _ in range(r[0])]\n",
    "            if pop == False:\n",
    "                crates = crates[::-1]\n",
    "            stacks[(r[2]-1)].extend(crates)\n",
    "\n",
    "        return (print(''.join([i[-1] for i in stacks])))"
   ]
  },
  {
   "cell_type": "code",
   "execution_count": 383,
   "metadata": {},
   "outputs": [
    {
     "name": "stdout",
     "output_type": "stream",
     "text": [
      "VRWBSFZWM\n"
     ]
    }
   ],
   "source": [
    "solve_day5()"
   ]
  },
  {
   "cell_type": "markdown",
   "metadata": {},
   "source": [
    "## Quizz 2"
   ]
  },
  {
   "cell_type": "code",
   "execution_count": 384,
   "metadata": {},
   "outputs": [
    {
     "name": "stdout",
     "output_type": "stream",
     "text": [
      "RBTWJWMCF\n"
     ]
    }
   ],
   "source": [
    "solve_day5(pop = False)"
   ]
  },
  {
   "cell_type": "markdown",
   "metadata": {},
   "source": [
    "# Day 7"
   ]
  },
  {
   "cell_type": "markdown",
   "metadata": {},
   "source": [
    "## Quizz 1"
   ]
  },
  {
   "cell_type": "code",
   "execution_count": 398,
   "metadata": {},
   "outputs": [
    {
     "data": {
      "text/plain": [
       "1432936"
      ]
     },
     "execution_count": 398,
     "metadata": {},
     "output_type": "execute_result"
    }
   ],
   "source": [
    "\n",
    "folders = ['/']\n",
    "files = {}\n",
    "pwd = '/'\n",
    "\n",
    "\n",
    "with open('../data/raw/day7/quizz1/input.txt') as file:\n",
    "    \n",
    "    for row in file:\n",
    "        row_data = row.rstrip()\n",
    "        if row_data.startswith('dir') or row_data.startswith('$ ls'):\n",
    "            continue\n",
    "        row_data = row_data.split(' ')\n",
    "        if row_data[-1] == '..':\n",
    "            pwd = os.path.dirname(pwd)\n",
    "        elif row_data[1] == 'cd' and row_data[-1] != pwd:\n",
    "            if len(pwd) > 1:\n",
    "                pwd = pwd + os.sep + row_data[-1]\n",
    "            else:\n",
    "                pwd = pwd + row_data[-1]\n",
    "            if pwd not in folders:\n",
    "                folders.append(pwd)\n",
    "        elif row_data[0] not in ['d', '$']:\n",
    "            if len(pwd) > 1:\n",
    "                file_path = pwd + os.sep + row_data[1]\n",
    "            else:\n",
    "                file_path = pwd + row_data[1]\n",
    "            files[file_path] = int(row_data[0])\n",
    "        else:\n",
    "            continue\n",
    "\n",
    "answer = []\n",
    "\n",
    "for f in folders:\n",
    "    x = sum([ value for key,value in files.items() if key.startswith(f)]) \n",
    "    if x > 100000:\n",
    "        continue\n",
    "    else:\n",
    "        answer.append(x)\n",
    "\n",
    "sum(answer)"
   ]
  },
  {
   "cell_type": "markdown",
   "metadata": {},
   "source": [
    "# Quizz 2"
   ]
  },
  {
   "cell_type": "code",
   "execution_count": 401,
   "metadata": {},
   "outputs": [
    {
     "data": {
      "text/plain": [
       "272298"
      ]
     },
     "execution_count": 401,
     "metadata": {},
     "output_type": "execute_result"
    }
   ],
   "source": [
    "\n",
    "free_space_needed = 30000000 - (70000000 - sum(files.values()))\n",
    "\n",
    "answer = []\n",
    "\n",
    "for f in folders:\n",
    "    x = sum([ value for key,value in files.items() if key.startswith(f)]) \n",
    "    if x < free_space_needed:\n",
    "        continue\n",
    "    else:\n",
    "        answer.append(x)\n",
    "\n",
    "min(answer)"
   ]
  }
 ],
 "metadata": {
  "kernelspec": {
   "display_name": "Python 3.8.10 64-bit",
   "language": "python",
   "name": "python3"
  },
  "language_info": {
   "codemirror_mode": {
    "name": "ipython",
    "version": 3
   },
   "file_extension": ".py",
   "mimetype": "text/x-python",
   "name": "python",
   "nbconvert_exporter": "python",
   "pygments_lexer": "ipython3",
   "version": "3.8.10"
  },
  "orig_nbformat": 4,
  "vscode": {
   "interpreter": {
    "hash": "31f2aee4e71d21fbe5cf8b01ff0e069b9275f58929596ceb00d14d90e3e16cd6"
   }
  }
 },
 "nbformat": 4,
 "nbformat_minor": 2
}
